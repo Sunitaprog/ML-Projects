{
 "cells": [
  {
   "cell_type": "code",
   "execution_count": 1,
   "metadata": {},
   "outputs": [],
   "source": [
    "import pandas as pd\n",
    "data=pd.read_csv(\"creditCardFraud.csv\")"
   ]
  },
  {
   "cell_type": "code",
   "execution_count": 2,
   "metadata": {},
   "outputs": [
    {
     "data": {
      "text/html": [
       "<div>\n",
       "<style scoped>\n",
       "    .dataframe tbody tr th:only-of-type {\n",
       "        vertical-align: middle;\n",
       "    }\n",
       "\n",
       "    .dataframe tbody tr th {\n",
       "        vertical-align: top;\n",
       "    }\n",
       "\n",
       "    .dataframe thead th {\n",
       "        text-align: right;\n",
       "    }\n",
       "</style>\n",
       "<table border=\"1\" class=\"dataframe\">\n",
       "  <thead>\n",
       "    <tr style=\"text-align: right;\">\n",
       "      <th></th>\n",
       "      <th>LIMIT_BAL</th>\n",
       "      <th>SEX</th>\n",
       "      <th>EDUCATION</th>\n",
       "      <th>MARRIAGE</th>\n",
       "      <th>AGE</th>\n",
       "      <th>PAY_0</th>\n",
       "      <th>PAY_2</th>\n",
       "      <th>PAY_3</th>\n",
       "      <th>PAY_4</th>\n",
       "      <th>PAY_5</th>\n",
       "      <th>...</th>\n",
       "      <th>BILL_AMT4</th>\n",
       "      <th>BILL_AMT5</th>\n",
       "      <th>BILL_AMT6</th>\n",
       "      <th>PAY_AMT1</th>\n",
       "      <th>PAY_AMT2</th>\n",
       "      <th>PAY_AMT3</th>\n",
       "      <th>PAY_AMT4</th>\n",
       "      <th>PAY_AMT5</th>\n",
       "      <th>PAY_AMT6</th>\n",
       "      <th>default payment next month</th>\n",
       "    </tr>\n",
       "  </thead>\n",
       "  <tbody>\n",
       "    <tr>\n",
       "      <th>0</th>\n",
       "      <td>50000</td>\n",
       "      <td>1</td>\n",
       "      <td>2</td>\n",
       "      <td>1</td>\n",
       "      <td>57</td>\n",
       "      <td>-1</td>\n",
       "      <td>0</td>\n",
       "      <td>-1</td>\n",
       "      <td>0</td>\n",
       "      <td>0</td>\n",
       "      <td>...</td>\n",
       "      <td>20940</td>\n",
       "      <td>19146</td>\n",
       "      <td>19131</td>\n",
       "      <td>2000</td>\n",
       "      <td>36681</td>\n",
       "      <td>10000</td>\n",
       "      <td>9000</td>\n",
       "      <td>689</td>\n",
       "      <td>679</td>\n",
       "      <td>0</td>\n",
       "    </tr>\n",
       "    <tr>\n",
       "      <th>1</th>\n",
       "      <td>50000</td>\n",
       "      <td>1</td>\n",
       "      <td>1</td>\n",
       "      <td>2</td>\n",
       "      <td>37</td>\n",
       "      <td>0</td>\n",
       "      <td>0</td>\n",
       "      <td>0</td>\n",
       "      <td>0</td>\n",
       "      <td>0</td>\n",
       "      <td>...</td>\n",
       "      <td>19394</td>\n",
       "      <td>19619</td>\n",
       "      <td>20024</td>\n",
       "      <td>2500</td>\n",
       "      <td>1815</td>\n",
       "      <td>657</td>\n",
       "      <td>1000</td>\n",
       "      <td>1000</td>\n",
       "      <td>800</td>\n",
       "      <td>0</td>\n",
       "    </tr>\n",
       "    <tr>\n",
       "      <th>2</th>\n",
       "      <td>500000</td>\n",
       "      <td>1</td>\n",
       "      <td>1</td>\n",
       "      <td>2</td>\n",
       "      <td>29</td>\n",
       "      <td>0</td>\n",
       "      <td>0</td>\n",
       "      <td>0</td>\n",
       "      <td>0</td>\n",
       "      <td>0</td>\n",
       "      <td>...</td>\n",
       "      <td>542653</td>\n",
       "      <td>483003</td>\n",
       "      <td>473944</td>\n",
       "      <td>55000</td>\n",
       "      <td>40000</td>\n",
       "      <td>38000</td>\n",
       "      <td>20239</td>\n",
       "      <td>13750</td>\n",
       "      <td>13770</td>\n",
       "      <td>0</td>\n",
       "    </tr>\n",
       "    <tr>\n",
       "      <th>3</th>\n",
       "      <td>100000</td>\n",
       "      <td>2</td>\n",
       "      <td>2</td>\n",
       "      <td>2</td>\n",
       "      <td>23</td>\n",
       "      <td>0</td>\n",
       "      <td>-1</td>\n",
       "      <td>-1</td>\n",
       "      <td>0</td>\n",
       "      <td>0</td>\n",
       "      <td>...</td>\n",
       "      <td>221</td>\n",
       "      <td>-159</td>\n",
       "      <td>567</td>\n",
       "      <td>380</td>\n",
       "      <td>601</td>\n",
       "      <td>0</td>\n",
       "      <td>581</td>\n",
       "      <td>1687</td>\n",
       "      <td>1542</td>\n",
       "      <td>0</td>\n",
       "    </tr>\n",
       "    <tr>\n",
       "      <th>4</th>\n",
       "      <td>140000</td>\n",
       "      <td>2</td>\n",
       "      <td>3</td>\n",
       "      <td>1</td>\n",
       "      <td>28</td>\n",
       "      <td>0</td>\n",
       "      <td>0</td>\n",
       "      <td>2</td>\n",
       "      <td>0</td>\n",
       "      <td>0</td>\n",
       "      <td>...</td>\n",
       "      <td>12211</td>\n",
       "      <td>11793</td>\n",
       "      <td>3719</td>\n",
       "      <td>3329</td>\n",
       "      <td>0</td>\n",
       "      <td>432</td>\n",
       "      <td>1000</td>\n",
       "      <td>1000</td>\n",
       "      <td>1000</td>\n",
       "      <td>0</td>\n",
       "    </tr>\n",
       "    <tr>\n",
       "      <th>5</th>\n",
       "      <td>20000</td>\n",
       "      <td>1</td>\n",
       "      <td>3</td>\n",
       "      <td>2</td>\n",
       "      <td>35</td>\n",
       "      <td>-2</td>\n",
       "      <td>-2</td>\n",
       "      <td>-2</td>\n",
       "      <td>-2</td>\n",
       "      <td>-1</td>\n",
       "      <td>...</td>\n",
       "      <td>0</td>\n",
       "      <td>13007</td>\n",
       "      <td>13912</td>\n",
       "      <td>0</td>\n",
       "      <td>0</td>\n",
       "      <td>0</td>\n",
       "      <td>13007</td>\n",
       "      <td>1122</td>\n",
       "      <td>0</td>\n",
       "      <td>0</td>\n",
       "    </tr>\n",
       "    <tr>\n",
       "      <th>6</th>\n",
       "      <td>200000</td>\n",
       "      <td>2</td>\n",
       "      <td>3</td>\n",
       "      <td>2</td>\n",
       "      <td>34</td>\n",
       "      <td>0</td>\n",
       "      <td>0</td>\n",
       "      <td>2</td>\n",
       "      <td>0</td>\n",
       "      <td>0</td>\n",
       "      <td>...</td>\n",
       "      <td>2513</td>\n",
       "      <td>1828</td>\n",
       "      <td>3731</td>\n",
       "      <td>2306</td>\n",
       "      <td>12</td>\n",
       "      <td>50</td>\n",
       "      <td>300</td>\n",
       "      <td>3738</td>\n",
       "      <td>66</td>\n",
       "      <td>0</td>\n",
       "    </tr>\n",
       "    <tr>\n",
       "      <th>7</th>\n",
       "      <td>260000</td>\n",
       "      <td>2</td>\n",
       "      <td>1</td>\n",
       "      <td>2</td>\n",
       "      <td>51</td>\n",
       "      <td>-1</td>\n",
       "      <td>-1</td>\n",
       "      <td>-1</td>\n",
       "      <td>-1</td>\n",
       "      <td>-1</td>\n",
       "      <td>...</td>\n",
       "      <td>8517</td>\n",
       "      <td>22287</td>\n",
       "      <td>13668</td>\n",
       "      <td>21818</td>\n",
       "      <td>9966</td>\n",
       "      <td>8583</td>\n",
       "      <td>22301</td>\n",
       "      <td>0</td>\n",
       "      <td>3640</td>\n",
       "      <td>0</td>\n",
       "    </tr>\n",
       "    <tr>\n",
       "      <th>8</th>\n",
       "      <td>630000</td>\n",
       "      <td>2</td>\n",
       "      <td>2</td>\n",
       "      <td>2</td>\n",
       "      <td>41</td>\n",
       "      <td>-1</td>\n",
       "      <td>0</td>\n",
       "      <td>-1</td>\n",
       "      <td>-1</td>\n",
       "      <td>-1</td>\n",
       "      <td>...</td>\n",
       "      <td>6500</td>\n",
       "      <td>6500</td>\n",
       "      <td>2870</td>\n",
       "      <td>1000</td>\n",
       "      <td>6500</td>\n",
       "      <td>6500</td>\n",
       "      <td>6500</td>\n",
       "      <td>2870</td>\n",
       "      <td>0</td>\n",
       "      <td>0</td>\n",
       "    </tr>\n",
       "    <tr>\n",
       "      <th>9</th>\n",
       "      <td>70000</td>\n",
       "      <td>1</td>\n",
       "      <td>2</td>\n",
       "      <td>2</td>\n",
       "      <td>30</td>\n",
       "      <td>1</td>\n",
       "      <td>2</td>\n",
       "      <td>2</td>\n",
       "      <td>0</td>\n",
       "      <td>0</td>\n",
       "      <td>...</td>\n",
       "      <td>66782</td>\n",
       "      <td>36137</td>\n",
       "      <td>36894</td>\n",
       "      <td>3200</td>\n",
       "      <td>0</td>\n",
       "      <td>3000</td>\n",
       "      <td>3000</td>\n",
       "      <td>1500</td>\n",
       "      <td>0</td>\n",
       "      <td>1</td>\n",
       "    </tr>\n",
       "    <tr>\n",
       "      <th>10</th>\n",
       "      <td>250000</td>\n",
       "      <td>1</td>\n",
       "      <td>1</td>\n",
       "      <td>2</td>\n",
       "      <td>29</td>\n",
       "      <td>0</td>\n",
       "      <td>0</td>\n",
       "      <td>0</td>\n",
       "      <td>0</td>\n",
       "      <td>0</td>\n",
       "      <td>...</td>\n",
       "      <td>59696</td>\n",
       "      <td>56875</td>\n",
       "      <td>55512</td>\n",
       "      <td>3000</td>\n",
       "      <td>3000</td>\n",
       "      <td>3000</td>\n",
       "      <td>3000</td>\n",
       "      <td>3000</td>\n",
       "      <td>3000</td>\n",
       "      <td>0</td>\n",
       "    </tr>\n",
       "    <tr>\n",
       "      <th>11</th>\n",
       "      <td>50000</td>\n",
       "      <td>2</td>\n",
       "      <td>3</td>\n",
       "      <td>3</td>\n",
       "      <td>23</td>\n",
       "      <td>1</td>\n",
       "      <td>2</td>\n",
       "      <td>0</td>\n",
       "      <td>0</td>\n",
       "      <td>0</td>\n",
       "      <td>...</td>\n",
       "      <td>28771</td>\n",
       "      <td>29531</td>\n",
       "      <td>30211</td>\n",
       "      <td>0</td>\n",
       "      <td>1500</td>\n",
       "      <td>1100</td>\n",
       "      <td>1200</td>\n",
       "      <td>1300</td>\n",
       "      <td>1100</td>\n",
       "      <td>0</td>\n",
       "    </tr>\n",
       "    <tr>\n",
       "      <th>12</th>\n",
       "      <td>20000</td>\n",
       "      <td>1</td>\n",
       "      <td>1</td>\n",
       "      <td>2</td>\n",
       "      <td>24</td>\n",
       "      <td>0</td>\n",
       "      <td>0</td>\n",
       "      <td>2</td>\n",
       "      <td>2</td>\n",
       "      <td>2</td>\n",
       "      <td>...</td>\n",
       "      <td>18338</td>\n",
       "      <td>17905</td>\n",
       "      <td>19104</td>\n",
       "      <td>3200</td>\n",
       "      <td>0</td>\n",
       "      <td>1500</td>\n",
       "      <td>0</td>\n",
       "      <td>1650</td>\n",
       "      <td>0</td>\n",
       "      <td>1</td>\n",
       "    </tr>\n",
       "    <tr>\n",
       "      <th>13</th>\n",
       "      <td>320000</td>\n",
       "      <td>1</td>\n",
       "      <td>1</td>\n",
       "      <td>1</td>\n",
       "      <td>49</td>\n",
       "      <td>0</td>\n",
       "      <td>0</td>\n",
       "      <td>0</td>\n",
       "      <td>-1</td>\n",
       "      <td>-1</td>\n",
       "      <td>...</td>\n",
       "      <td>70074</td>\n",
       "      <td>5856</td>\n",
       "      <td>195599</td>\n",
       "      <td>10358</td>\n",
       "      <td>10000</td>\n",
       "      <td>75940</td>\n",
       "      <td>20000</td>\n",
       "      <td>195599</td>\n",
       "      <td>50000</td>\n",
       "      <td>0</td>\n",
       "    </tr>\n",
       "    <tr>\n",
       "      <th>14</th>\n",
       "      <td>360000</td>\n",
       "      <td>2</td>\n",
       "      <td>1</td>\n",
       "      <td>1</td>\n",
       "      <td>49</td>\n",
       "      <td>1</td>\n",
       "      <td>-2</td>\n",
       "      <td>-2</td>\n",
       "      <td>-2</td>\n",
       "      <td>-2</td>\n",
       "      <td>...</td>\n",
       "      <td>0</td>\n",
       "      <td>0</td>\n",
       "      <td>0</td>\n",
       "      <td>0</td>\n",
       "      <td>0</td>\n",
       "      <td>0</td>\n",
       "      <td>0</td>\n",
       "      <td>0</td>\n",
       "      <td>0</td>\n",
       "      <td>0</td>\n",
       "    </tr>\n",
       "  </tbody>\n",
       "</table>\n",
       "<p>15 rows × 24 columns</p>\n",
       "</div>"
      ],
      "text/plain": [
       "    LIMIT_BAL  SEX  EDUCATION  MARRIAGE  AGE  PAY_0  PAY_2  PAY_3  PAY_4  \\\n",
       "0       50000    1          2         1   57     -1      0     -1      0   \n",
       "1       50000    1          1         2   37      0      0      0      0   \n",
       "2      500000    1          1         2   29      0      0      0      0   \n",
       "3      100000    2          2         2   23      0     -1     -1      0   \n",
       "4      140000    2          3         1   28      0      0      2      0   \n",
       "5       20000    1          3         2   35     -2     -2     -2     -2   \n",
       "6      200000    2          3         2   34      0      0      2      0   \n",
       "7      260000    2          1         2   51     -1     -1     -1     -1   \n",
       "8      630000    2          2         2   41     -1      0     -1     -1   \n",
       "9       70000    1          2         2   30      1      2      2      0   \n",
       "10     250000    1          1         2   29      0      0      0      0   \n",
       "11      50000    2          3         3   23      1      2      0      0   \n",
       "12      20000    1          1         2   24      0      0      2      2   \n",
       "13     320000    1          1         1   49      0      0      0     -1   \n",
       "14     360000    2          1         1   49      1     -2     -2     -2   \n",
       "\n",
       "    PAY_5  ...  BILL_AMT4  BILL_AMT5  BILL_AMT6  PAY_AMT1  PAY_AMT2  PAY_AMT3  \\\n",
       "0       0  ...      20940      19146      19131      2000     36681     10000   \n",
       "1       0  ...      19394      19619      20024      2500      1815       657   \n",
       "2       0  ...     542653     483003     473944     55000     40000     38000   \n",
       "3       0  ...        221       -159        567       380       601         0   \n",
       "4       0  ...      12211      11793       3719      3329         0       432   \n",
       "5      -1  ...          0      13007      13912         0         0         0   \n",
       "6       0  ...       2513       1828       3731      2306        12        50   \n",
       "7      -1  ...       8517      22287      13668     21818      9966      8583   \n",
       "8      -1  ...       6500       6500       2870      1000      6500      6500   \n",
       "9       0  ...      66782      36137      36894      3200         0      3000   \n",
       "10      0  ...      59696      56875      55512      3000      3000      3000   \n",
       "11      0  ...      28771      29531      30211         0      1500      1100   \n",
       "12      2  ...      18338      17905      19104      3200         0      1500   \n",
       "13     -1  ...      70074       5856     195599     10358     10000     75940   \n",
       "14     -2  ...          0          0          0         0         0         0   \n",
       "\n",
       "    PAY_AMT4  PAY_AMT5  PAY_AMT6  default payment next month  \n",
       "0       9000       689       679                           0  \n",
       "1       1000      1000       800                           0  \n",
       "2      20239     13750     13770                           0  \n",
       "3        581      1687      1542                           0  \n",
       "4       1000      1000      1000                           0  \n",
       "5      13007      1122         0                           0  \n",
       "6        300      3738        66                           0  \n",
       "7      22301         0      3640                           0  \n",
       "8       6500      2870         0                           0  \n",
       "9       3000      1500         0                           1  \n",
       "10      3000      3000      3000                           0  \n",
       "11      1200      1300      1100                           0  \n",
       "12         0      1650         0                           1  \n",
       "13     20000    195599     50000                           0  \n",
       "14         0         0         0                           0  \n",
       "\n",
       "[15 rows x 24 columns]"
      ]
     },
     "execution_count": 2,
     "metadata": {},
     "output_type": "execute_result"
    }
   ],
   "source": [
    "data.head(15)"
   ]
  },
  {
   "cell_type": "code",
   "execution_count": 3,
   "metadata": {},
   "outputs": [
    {
     "data": {
      "text/plain": [
       "Index(['LIMIT_BAL', 'SEX', 'EDUCATION', 'MARRIAGE', 'AGE', 'PAY_0', 'PAY_2',\n",
       "       'PAY_3', 'PAY_4', 'PAY_5', 'PAY_6', 'BILL_AMT1', 'BILL_AMT2',\n",
       "       'BILL_AMT3', 'BILL_AMT4', 'BILL_AMT5', 'BILL_AMT6', 'PAY_AMT1',\n",
       "       'PAY_AMT2', 'PAY_AMT3', 'PAY_AMT4', 'PAY_AMT5', 'PAY_AMT6',\n",
       "       'default payment next month'],\n",
       "      dtype='object')"
      ]
     },
     "execution_count": 3,
     "metadata": {},
     "output_type": "execute_result"
    }
   ],
   "source": [
    "data.columns"
   ]
  },
  {
   "cell_type": "code",
   "execution_count": 4,
   "metadata": {},
   "outputs": [
    {
     "name": "stdout",
     "output_type": "stream",
     "text": [
      "<class 'pandas.core.frame.DataFrame'>\n",
      "RangeIndex: 1001 entries, 0 to 1000\n",
      "Data columns (total 24 columns):\n",
      " #   Column                      Non-Null Count  Dtype\n",
      "---  ------                      --------------  -----\n",
      " 0   LIMIT_BAL                   1001 non-null   int64\n",
      " 1   SEX                         1001 non-null   int64\n",
      " 2   EDUCATION                   1001 non-null   int64\n",
      " 3   MARRIAGE                    1001 non-null   int64\n",
      " 4   AGE                         1001 non-null   int64\n",
      " 5   PAY_0                       1001 non-null   int64\n",
      " 6   PAY_2                       1001 non-null   int64\n",
      " 7   PAY_3                       1001 non-null   int64\n",
      " 8   PAY_4                       1001 non-null   int64\n",
      " 9   PAY_5                       1001 non-null   int64\n",
      " 10  PAY_6                       1001 non-null   int64\n",
      " 11  BILL_AMT1                   1001 non-null   int64\n",
      " 12  BILL_AMT2                   1001 non-null   int64\n",
      " 13  BILL_AMT3                   1001 non-null   int64\n",
      " 14  BILL_AMT4                   1001 non-null   int64\n",
      " 15  BILL_AMT5                   1001 non-null   int64\n",
      " 16  BILL_AMT6                   1001 non-null   int64\n",
      " 17  PAY_AMT1                    1001 non-null   int64\n",
      " 18  PAY_AMT2                    1001 non-null   int64\n",
      " 19  PAY_AMT3                    1001 non-null   int64\n",
      " 20  PAY_AMT4                    1001 non-null   int64\n",
      " 21  PAY_AMT5                    1001 non-null   int64\n",
      " 22  PAY_AMT6                    1001 non-null   int64\n",
      " 23  default payment next month  1001 non-null   int64\n",
      "dtypes: int64(24)\n",
      "memory usage: 187.8 KB\n"
     ]
    }
   ],
   "source": [
    "data.info()"
   ]
  },
  {
   "cell_type": "code",
   "execution_count": 5,
   "metadata": {},
   "outputs": [
    {
     "data": {
      "text/plain": [
       "LIMIT_BAL                     0\n",
       "SEX                           0\n",
       "EDUCATION                     0\n",
       "MARRIAGE                      0\n",
       "AGE                           0\n",
       "PAY_0                         0\n",
       "PAY_2                         0\n",
       "PAY_3                         0\n",
       "PAY_4                         0\n",
       "PAY_5                         0\n",
       "PAY_6                         0\n",
       "BILL_AMT1                     0\n",
       "BILL_AMT2                     0\n",
       "BILL_AMT3                     0\n",
       "BILL_AMT4                     0\n",
       "BILL_AMT5                     0\n",
       "BILL_AMT6                     0\n",
       "PAY_AMT1                      0\n",
       "PAY_AMT2                      0\n",
       "PAY_AMT3                      0\n",
       "PAY_AMT4                      0\n",
       "PAY_AMT5                      0\n",
       "PAY_AMT6                      0\n",
       "default payment next month    0\n",
       "dtype: int64"
      ]
     },
     "execution_count": 5,
     "metadata": {},
     "output_type": "execute_result"
    }
   ],
   "source": [
    "data.isnull().sum()"
   ]
  },
  {
   "cell_type": "code",
   "execution_count": 6,
   "metadata": {},
   "outputs": [
    {
     "name": "stdout",
     "output_type": "stream",
     "text": [
      "Requirement already satisfied: pandas-profiling in c:\\users\\sunita\\anaconda3\\lib\\site-packages (3.6.6)\n",
      "Requirement already satisfied: ydata-profiling in c:\\users\\sunita\\anaconda3\\lib\\site-packages (from pandas-profiling) (4.2.0)\n",
      "Requirement already satisfied: phik<0.13,>=0.11.1 in c:\\users\\sunita\\anaconda3\\lib\\site-packages (from ydata-profiling->pandas-profiling) (0.12.3)\n",
      "Requirement already satisfied: scipy<1.11,>=1.4.1 in c:\\users\\sunita\\anaconda3\\lib\\site-packages (from ydata-profiling->pandas-profiling) (1.5.2)\n",
      "Requirement already satisfied: requests<3,>=2.24.0 in c:\\users\\sunita\\anaconda3\\lib\\site-packages (from ydata-profiling->pandas-profiling) (2.24.0)\n",
      "Requirement already satisfied: numpy<1.24,>=1.16.0 in c:\\users\\sunita\\anaconda3\\lib\\site-packages (from ydata-profiling->pandas-profiling) (1.19.2)\n",
      "Requirement already satisfied: pandas!=1.4.0,<2,>1.1 in c:\\users\\sunita\\anaconda3\\lib\\site-packages (from ydata-profiling->pandas-profiling) (1.1.3)\n",
      "Requirement already satisfied: statsmodels<1,>=0.13.2 in c:\\users\\sunita\\anaconda3\\lib\\site-packages (from ydata-profiling->pandas-profiling) (0.14.0)\n",
      "Requirement already satisfied: jinja2<3.2,>=2.11.1 in c:\\users\\sunita\\anaconda3\\lib\\site-packages (from ydata-profiling->pandas-profiling) (2.11.2)\n",
      "Requirement already satisfied: typeguard<3,>=2.13.2 in c:\\users\\sunita\\anaconda3\\lib\\site-packages (from ydata-profiling->pandas-profiling) (2.13.3)\n",
      "Requirement already satisfied: dacite>=1.8 in c:\\users\\sunita\\anaconda3\\lib\\site-packages (from ydata-profiling->pandas-profiling) (1.8.1)\n",
      "Requirement already satisfied: seaborn<0.13,>=0.10.1 in c:\\users\\sunita\\anaconda3\\lib\\site-packages (from ydata-profiling->pandas-profiling) (0.11.0)\n",
      "Requirement already satisfied: imagehash==4.3.1 in c:\\users\\sunita\\anaconda3\\lib\\site-packages (from ydata-profiling->pandas-profiling) (4.3.1)\n",
      "Requirement already satisfied: PyYAML<6.1,>=5.0.0 in c:\\users\\sunita\\anaconda3\\lib\\site-packages (from ydata-profiling->pandas-profiling) (5.3.1)\n",
      "Requirement already satisfied: tqdm<5,>=4.48.2 in c:\\users\\sunita\\anaconda3\\lib\\site-packages (from ydata-profiling->pandas-profiling) (4.50.2)\n",
      "Requirement already satisfied: htmlmin==0.1.12 in c:\\users\\sunita\\anaconda3\\lib\\site-packages (from ydata-profiling->pandas-profiling) (0.1.12)\n",
      "Requirement already satisfied: pydantic<2,>=1.8.1 in c:\\users\\sunita\\anaconda3\\lib\\site-packages (from ydata-profiling->pandas-profiling) (1.10.9)\n",
      "Requirement already satisfied: wordcloud>=1.9.1 in c:\\users\\sunita\\anaconda3\\lib\\site-packages (from ydata-profiling->pandas-profiling) (1.9.2)\n",
      "Requirement already satisfied: matplotlib<4,>=3.2 in c:\\users\\sunita\\anaconda3\\lib\\site-packages (from ydata-profiling->pandas-profiling) (3.3.2)\n",
      "Requirement already satisfied: multimethod<2,>=1.4 in c:\\users\\sunita\\anaconda3\\lib\\site-packages (from ydata-profiling->pandas-profiling) (1.9.1)\n",
      "Requirement already satisfied: visions[type_image_path]==0.7.5 in c:\\users\\sunita\\anaconda3\\lib\\site-packages (from ydata-profiling->pandas-profiling) (0.7.5)\n",
      "Requirement already satisfied: joblib>=0.14.1 in c:\\users\\sunita\\anaconda3\\lib\\site-packages (from phik<0.13,>=0.11.1->ydata-profiling->pandas-profiling) (0.17.0)\n",
      "Requirement already satisfied: certifi>=2017.4.17 in c:\\users\\sunita\\anaconda3\\lib\\site-packages (from requests<3,>=2.24.0->ydata-profiling->pandas-profiling) (2020.6.20)\n",
      "Requirement already satisfied: idna<3,>=2.5 in c:\\users\\sunita\\anaconda3\\lib\\site-packages (from requests<3,>=2.24.0->ydata-profiling->pandas-profiling) (2.10)\n",
      "Requirement already satisfied: chardet<4,>=3.0.2 in c:\\users\\sunita\\anaconda3\\lib\\site-packages (from requests<3,>=2.24.0->ydata-profiling->pandas-profiling) (3.0.4)\n",
      "Requirement already satisfied: urllib3!=1.25.0,!=1.25.1,<1.26,>=1.21.1 in c:\\users\\sunita\\anaconda3\\lib\\site-packages (from requests<3,>=2.24.0->ydata-profiling->pandas-profiling) (1.25.11)\n",
      "Requirement already satisfied: pytz>=2017.2 in c:\\users\\sunita\\anaconda3\\lib\\site-packages (from pandas!=1.4.0,<2,>1.1->ydata-profiling->pandas-profiling) (2020.1)\n",
      "Requirement already satisfied: python-dateutil>=2.7.3 in c:\\users\\sunita\\anaconda3\\lib\\site-packages (from pandas!=1.4.0,<2,>1.1->ydata-profiling->pandas-profiling) (2.8.1)\n",
      "Requirement already satisfied: patsy>=0.5.2 in c:\\users\\sunita\\anaconda3\\lib\\site-packages (from statsmodels<1,>=0.13.2->ydata-profiling->pandas-profiling) (0.5.3)\n",
      "Requirement already satisfied: packaging>=21.3 in c:\\users\\sunita\\anaconda3\\lib\\site-packages (from statsmodels<1,>=0.13.2->ydata-profiling->pandas-profiling) (21.3)\n",
      "Requirement already satisfied: MarkupSafe>=0.23 in c:\\users\\sunita\\anaconda3\\lib\\site-packages (from jinja2<3.2,>=2.11.1->ydata-profiling->pandas-profiling) (1.1.1)\n",
      "Requirement already satisfied: pillow in c:\\users\\sunita\\anaconda3\\lib\\site-packages (from imagehash==4.3.1->ydata-profiling->pandas-profiling) (8.0.1)\n",
      "Requirement already satisfied: PyWavelets in c:\\users\\sunita\\anaconda3\\lib\\site-packages (from imagehash==4.3.1->ydata-profiling->pandas-profiling) (1.1.1)\n",
      "Requirement already satisfied: typing-extensions>=4.2.0 in c:\\users\\sunita\\anaconda3\\lib\\site-packages (from pydantic<2,>=1.8.1->ydata-profiling->pandas-profiling) (4.6.3)\n",
      "Requirement already satisfied: cycler>=0.10 in c:\\users\\sunita\\anaconda3\\lib\\site-packages (from matplotlib<4,>=3.2->ydata-profiling->pandas-profiling) (0.10.0)\n",
      "Requirement already satisfied: kiwisolver>=1.0.1 in c:\\users\\sunita\\anaconda3\\lib\\site-packages (from matplotlib<4,>=3.2->ydata-profiling->pandas-profiling) (1.3.0)\n",
      "Requirement already satisfied: pyparsing!=2.0.4,!=2.1.2,!=2.1.6,>=2.0.3 in c:\\users\\sunita\\anaconda3\\lib\\site-packages (from matplotlib<4,>=3.2->ydata-profiling->pandas-profiling) (2.4.7)\n",
      "Requirement already satisfied: attrs>=19.3.0 in c:\\users\\sunita\\anaconda3\\lib\\site-packages (from visions[type_image_path]==0.7.5->ydata-profiling->pandas-profiling) (20.3.0)\n",
      "Requirement already satisfied: networkx>=2.4 in c:\\users\\sunita\\anaconda3\\lib\\site-packages (from visions[type_image_path]==0.7.5->ydata-profiling->pandas-profiling) (2.5)\n",
      "Requirement already satisfied: tangled-up-in-unicode>=0.0.4 in c:\\users\\sunita\\anaconda3\\lib\\site-packages (from visions[type_image_path]==0.7.5->ydata-profiling->pandas-profiling) (0.2.0)\n",
      "Requirement already satisfied: six>=1.5 in c:\\users\\sunita\\anaconda3\\lib\\site-packages (from python-dateutil>=2.7.3->pandas!=1.4.0,<2,>1.1->ydata-profiling->pandas-profiling) (1.15.0)\n",
      "Requirement already satisfied: decorator>=4.3.0 in c:\\users\\sunita\\anaconda3\\lib\\site-packages (from networkx>=2.4->visions[type_image_path]==0.7.5->ydata-profiling->pandas-profiling) (4.4.2)\n"
     ]
    }
   ],
   "source": [
    "!pip install pandas-profiling\n"
   ]
  },
  {
   "cell_type": "code",
   "execution_count": 7,
   "metadata": {},
   "outputs": [
    {
     "name": "stderr",
     "output_type": "stream",
     "text": [
      "<ipython-input-7-e2a33329b6f0>:1: DeprecationWarning: `import pandas_profiling` is going to be deprecated by April 1st. Please use `import ydata_profiling` instead.\n",
      "  from pandas_profiling import ProfileReport\n"
     ]
    }
   ],
   "source": [
    "from pandas_profiling import ProfileReport"
   ]
  },
  {
   "cell_type": "code",
   "execution_count": 8,
   "metadata": {},
   "outputs": [],
   "source": [
    "profile = ProfileReport(data, title=\"Pandas Profiling Report\")"
   ]
  },
  {
   "cell_type": "code",
   "execution_count": 9,
   "metadata": {},
   "outputs": [
    {
     "data": {
      "application/vnd.jupyter.widget-view+json": {
       "model_id": "4c56c2daa0f749f7a098328acf7e7582",
       "version_major": 2,
       "version_minor": 0
      },
      "text/plain": [
       "HBox(children=(HTML(value='Summarize dataset'), FloatProgress(value=0.0, max=5.0), HTML(value='')))"
      ]
     },
     "metadata": {},
     "output_type": "display_data"
    },
    {
     "name": "stdout",
     "output_type": "stream",
     "text": [
      "\n"
     ]
    },
    {
     "data": {
      "application/vnd.jupyter.widget-view+json": {
       "model_id": "7cae039ad43c49fabe71e7ae67a03895",
       "version_major": 2,
       "version_minor": 0
      },
      "text/plain": [
       "HBox(children=(HTML(value='Generate report structure'), FloatProgress(value=0.0, max=1.0), HTML(value='')))"
      ]
     },
     "metadata": {},
     "output_type": "display_data"
    },
    {
     "name": "stdout",
     "output_type": "stream",
     "text": [
      "\n"
     ]
    },
    {
     "data": {
      "application/vnd.jupyter.widget-view+json": {
       "model_id": "9d23817f3d76432d87bdf560230e7125",
       "version_major": 2,
       "version_minor": 0
      },
      "text/plain": [
       "HBox(children=(HTML(value='Render widgets'), FloatProgress(value=0.0, max=1.0), HTML(value='')))"
      ]
     },
     "metadata": {},
     "output_type": "display_data"
    },
    {
     "data": {
      "application/vnd.jupyter.widget-view+json": {
       "model_id": "72912d2ec55847899524b05efb5ff522",
       "version_major": 2,
       "version_minor": 0
      },
      "text/plain": [
       "VBox(children=(Tab(children=(Tab(children=(GridBox(children=(VBox(children=(GridspecLayout(children=(HTML(valu…"
      ]
     },
     "metadata": {},
     "output_type": "display_data"
    }
   ],
   "source": [
    "profile.to_widgets()"
   ]
  },
  {
   "cell_type": "code",
   "execution_count": 10,
   "metadata": {},
   "outputs": [],
   "source": [
    "X=data.drop(labels=[\"default payment next month\"],axis=1)"
   ]
  },
  {
   "cell_type": "code",
   "execution_count": 11,
   "metadata": {},
   "outputs": [
    {
     "data": {
      "text/html": [
       "<div>\n",
       "<style scoped>\n",
       "    .dataframe tbody tr th:only-of-type {\n",
       "        vertical-align: middle;\n",
       "    }\n",
       "\n",
       "    .dataframe tbody tr th {\n",
       "        vertical-align: top;\n",
       "    }\n",
       "\n",
       "    .dataframe thead th {\n",
       "        text-align: right;\n",
       "    }\n",
       "</style>\n",
       "<table border=\"1\" class=\"dataframe\">\n",
       "  <thead>\n",
       "    <tr style=\"text-align: right;\">\n",
       "      <th></th>\n",
       "      <th>LIMIT_BAL</th>\n",
       "      <th>SEX</th>\n",
       "      <th>EDUCATION</th>\n",
       "      <th>MARRIAGE</th>\n",
       "      <th>AGE</th>\n",
       "      <th>PAY_0</th>\n",
       "      <th>PAY_2</th>\n",
       "      <th>PAY_3</th>\n",
       "      <th>PAY_4</th>\n",
       "      <th>PAY_5</th>\n",
       "      <th>...</th>\n",
       "      <th>BILL_AMT3</th>\n",
       "      <th>BILL_AMT4</th>\n",
       "      <th>BILL_AMT5</th>\n",
       "      <th>BILL_AMT6</th>\n",
       "      <th>PAY_AMT1</th>\n",
       "      <th>PAY_AMT2</th>\n",
       "      <th>PAY_AMT3</th>\n",
       "      <th>PAY_AMT4</th>\n",
       "      <th>PAY_AMT5</th>\n",
       "      <th>PAY_AMT6</th>\n",
       "    </tr>\n",
       "  </thead>\n",
       "  <tbody>\n",
       "    <tr>\n",
       "      <th>0</th>\n",
       "      <td>50000</td>\n",
       "      <td>1</td>\n",
       "      <td>2</td>\n",
       "      <td>1</td>\n",
       "      <td>57</td>\n",
       "      <td>-1</td>\n",
       "      <td>0</td>\n",
       "      <td>-1</td>\n",
       "      <td>0</td>\n",
       "      <td>0</td>\n",
       "      <td>...</td>\n",
       "      <td>35835</td>\n",
       "      <td>20940</td>\n",
       "      <td>19146</td>\n",
       "      <td>19131</td>\n",
       "      <td>2000</td>\n",
       "      <td>36681</td>\n",
       "      <td>10000</td>\n",
       "      <td>9000</td>\n",
       "      <td>689</td>\n",
       "      <td>679</td>\n",
       "    </tr>\n",
       "    <tr>\n",
       "      <th>1</th>\n",
       "      <td>50000</td>\n",
       "      <td>1</td>\n",
       "      <td>1</td>\n",
       "      <td>2</td>\n",
       "      <td>37</td>\n",
       "      <td>0</td>\n",
       "      <td>0</td>\n",
       "      <td>0</td>\n",
       "      <td>0</td>\n",
       "      <td>0</td>\n",
       "      <td>...</td>\n",
       "      <td>57608</td>\n",
       "      <td>19394</td>\n",
       "      <td>19619</td>\n",
       "      <td>20024</td>\n",
       "      <td>2500</td>\n",
       "      <td>1815</td>\n",
       "      <td>657</td>\n",
       "      <td>1000</td>\n",
       "      <td>1000</td>\n",
       "      <td>800</td>\n",
       "    </tr>\n",
       "    <tr>\n",
       "      <th>2</th>\n",
       "      <td>500000</td>\n",
       "      <td>1</td>\n",
       "      <td>1</td>\n",
       "      <td>2</td>\n",
       "      <td>29</td>\n",
       "      <td>0</td>\n",
       "      <td>0</td>\n",
       "      <td>0</td>\n",
       "      <td>0</td>\n",
       "      <td>0</td>\n",
       "      <td>...</td>\n",
       "      <td>445007</td>\n",
       "      <td>542653</td>\n",
       "      <td>483003</td>\n",
       "      <td>473944</td>\n",
       "      <td>55000</td>\n",
       "      <td>40000</td>\n",
       "      <td>38000</td>\n",
       "      <td>20239</td>\n",
       "      <td>13750</td>\n",
       "      <td>13770</td>\n",
       "    </tr>\n",
       "    <tr>\n",
       "      <th>3</th>\n",
       "      <td>100000</td>\n",
       "      <td>2</td>\n",
       "      <td>2</td>\n",
       "      <td>2</td>\n",
       "      <td>23</td>\n",
       "      <td>0</td>\n",
       "      <td>-1</td>\n",
       "      <td>-1</td>\n",
       "      <td>0</td>\n",
       "      <td>0</td>\n",
       "      <td>...</td>\n",
       "      <td>601</td>\n",
       "      <td>221</td>\n",
       "      <td>-159</td>\n",
       "      <td>567</td>\n",
       "      <td>380</td>\n",
       "      <td>601</td>\n",
       "      <td>0</td>\n",
       "      <td>581</td>\n",
       "      <td>1687</td>\n",
       "      <td>1542</td>\n",
       "    </tr>\n",
       "    <tr>\n",
       "      <th>4</th>\n",
       "      <td>140000</td>\n",
       "      <td>2</td>\n",
       "      <td>3</td>\n",
       "      <td>1</td>\n",
       "      <td>28</td>\n",
       "      <td>0</td>\n",
       "      <td>0</td>\n",
       "      <td>2</td>\n",
       "      <td>0</td>\n",
       "      <td>0</td>\n",
       "      <td>...</td>\n",
       "      <td>12108</td>\n",
       "      <td>12211</td>\n",
       "      <td>11793</td>\n",
       "      <td>3719</td>\n",
       "      <td>3329</td>\n",
       "      <td>0</td>\n",
       "      <td>432</td>\n",
       "      <td>1000</td>\n",
       "      <td>1000</td>\n",
       "      <td>1000</td>\n",
       "    </tr>\n",
       "    <tr>\n",
       "      <th>...</th>\n",
       "      <td>...</td>\n",
       "      <td>...</td>\n",
       "      <td>...</td>\n",
       "      <td>...</td>\n",
       "      <td>...</td>\n",
       "      <td>...</td>\n",
       "      <td>...</td>\n",
       "      <td>...</td>\n",
       "      <td>...</td>\n",
       "      <td>...</td>\n",
       "      <td>...</td>\n",
       "      <td>...</td>\n",
       "      <td>...</td>\n",
       "      <td>...</td>\n",
       "      <td>...</td>\n",
       "      <td>...</td>\n",
       "      <td>...</td>\n",
       "      <td>...</td>\n",
       "      <td>...</td>\n",
       "      <td>...</td>\n",
       "      <td>...</td>\n",
       "    </tr>\n",
       "    <tr>\n",
       "      <th>996</th>\n",
       "      <td>100000</td>\n",
       "      <td>1</td>\n",
       "      <td>2</td>\n",
       "      <td>1</td>\n",
       "      <td>29</td>\n",
       "      <td>0</td>\n",
       "      <td>0</td>\n",
       "      <td>0</td>\n",
       "      <td>0</td>\n",
       "      <td>-1</td>\n",
       "      <td>...</td>\n",
       "      <td>67782</td>\n",
       "      <td>-2618</td>\n",
       "      <td>95748</td>\n",
       "      <td>101299</td>\n",
       "      <td>3320</td>\n",
       "      <td>5000</td>\n",
       "      <td>0</td>\n",
       "      <td>100000</td>\n",
       "      <td>7186</td>\n",
       "      <td>0</td>\n",
       "    </tr>\n",
       "    <tr>\n",
       "      <th>997</th>\n",
       "      <td>200000</td>\n",
       "      <td>2</td>\n",
       "      <td>2</td>\n",
       "      <td>1</td>\n",
       "      <td>28</td>\n",
       "      <td>0</td>\n",
       "      <td>0</td>\n",
       "      <td>0</td>\n",
       "      <td>0</td>\n",
       "      <td>0</td>\n",
       "      <td>...</td>\n",
       "      <td>8441</td>\n",
       "      <td>97041</td>\n",
       "      <td>103541</td>\n",
       "      <td>3632</td>\n",
       "      <td>5000</td>\n",
       "      <td>2000</td>\n",
       "      <td>89000</td>\n",
       "      <td>6500</td>\n",
       "      <td>91</td>\n",
       "      <td>1504</td>\n",
       "    </tr>\n",
       "    <tr>\n",
       "      <th>998</th>\n",
       "      <td>90000</td>\n",
       "      <td>2</td>\n",
       "      <td>2</td>\n",
       "      <td>1</td>\n",
       "      <td>40</td>\n",
       "      <td>-1</td>\n",
       "      <td>-1</td>\n",
       "      <td>-1</td>\n",
       "      <td>-1</td>\n",
       "      <td>-1</td>\n",
       "      <td>...</td>\n",
       "      <td>1114</td>\n",
       "      <td>657</td>\n",
       "      <td>1332</td>\n",
       "      <td>780</td>\n",
       "      <td>0</td>\n",
       "      <td>2806</td>\n",
       "      <td>2256</td>\n",
       "      <td>2274</td>\n",
       "      <td>780</td>\n",
       "      <td>0</td>\n",
       "    </tr>\n",
       "    <tr>\n",
       "      <th>999</th>\n",
       "      <td>360000</td>\n",
       "      <td>1</td>\n",
       "      <td>1</td>\n",
       "      <td>2</td>\n",
       "      <td>36</td>\n",
       "      <td>1</td>\n",
       "      <td>-2</td>\n",
       "      <td>-2</td>\n",
       "      <td>-2</td>\n",
       "      <td>-2</td>\n",
       "      <td>...</td>\n",
       "      <td>0</td>\n",
       "      <td>0</td>\n",
       "      <td>0</td>\n",
       "      <td>0</td>\n",
       "      <td>0</td>\n",
       "      <td>0</td>\n",
       "      <td>0</td>\n",
       "      <td>0</td>\n",
       "      <td>0</td>\n",
       "      <td>0</td>\n",
       "    </tr>\n",
       "    <tr>\n",
       "      <th>1000</th>\n",
       "      <td>150000</td>\n",
       "      <td>2</td>\n",
       "      <td>3</td>\n",
       "      <td>2</td>\n",
       "      <td>30</td>\n",
       "      <td>-2</td>\n",
       "      <td>-2</td>\n",
       "      <td>-2</td>\n",
       "      <td>-2</td>\n",
       "      <td>-2</td>\n",
       "      <td>...</td>\n",
       "      <td>3420</td>\n",
       "      <td>2527</td>\n",
       "      <td>0</td>\n",
       "      <td>0</td>\n",
       "      <td>9664</td>\n",
       "      <td>3420</td>\n",
       "      <td>2612</td>\n",
       "      <td>0</td>\n",
       "      <td>0</td>\n",
       "      <td>0</td>\n",
       "    </tr>\n",
       "  </tbody>\n",
       "</table>\n",
       "<p>1001 rows × 23 columns</p>\n",
       "</div>"
      ],
      "text/plain": [
       "      LIMIT_BAL  SEX  EDUCATION  MARRIAGE  AGE  PAY_0  PAY_2  PAY_3  PAY_4  \\\n",
       "0         50000    1          2         1   57     -1      0     -1      0   \n",
       "1         50000    1          1         2   37      0      0      0      0   \n",
       "2        500000    1          1         2   29      0      0      0      0   \n",
       "3        100000    2          2         2   23      0     -1     -1      0   \n",
       "4        140000    2          3         1   28      0      0      2      0   \n",
       "...         ...  ...        ...       ...  ...    ...    ...    ...    ...   \n",
       "996      100000    1          2         1   29      0      0      0      0   \n",
       "997      200000    2          2         1   28      0      0      0      0   \n",
       "998       90000    2          2         1   40     -1     -1     -1     -1   \n",
       "999      360000    1          1         2   36      1     -2     -2     -2   \n",
       "1000     150000    2          3         2   30     -2     -2     -2     -2   \n",
       "\n",
       "      PAY_5  ...  BILL_AMT3  BILL_AMT4  BILL_AMT5  BILL_AMT6  PAY_AMT1  \\\n",
       "0         0  ...      35835      20940      19146      19131      2000   \n",
       "1         0  ...      57608      19394      19619      20024      2500   \n",
       "2         0  ...     445007     542653     483003     473944     55000   \n",
       "3         0  ...        601        221       -159        567       380   \n",
       "4         0  ...      12108      12211      11793       3719      3329   \n",
       "...     ...  ...        ...        ...        ...        ...       ...   \n",
       "996      -1  ...      67782      -2618      95748     101299      3320   \n",
       "997       0  ...       8441      97041     103541       3632      5000   \n",
       "998      -1  ...       1114        657       1332        780         0   \n",
       "999      -2  ...          0          0          0          0         0   \n",
       "1000     -2  ...       3420       2527          0          0      9664   \n",
       "\n",
       "      PAY_AMT2  PAY_AMT3  PAY_AMT4  PAY_AMT5  PAY_AMT6  \n",
       "0        36681     10000      9000       689       679  \n",
       "1         1815       657      1000      1000       800  \n",
       "2        40000     38000     20239     13750     13770  \n",
       "3          601         0       581      1687      1542  \n",
       "4            0       432      1000      1000      1000  \n",
       "...        ...       ...       ...       ...       ...  \n",
       "996       5000         0    100000      7186         0  \n",
       "997       2000     89000      6500        91      1504  \n",
       "998       2806      2256      2274       780         0  \n",
       "999          0         0         0         0         0  \n",
       "1000      3420      2612         0         0         0  \n",
       "\n",
       "[1001 rows x 23 columns]"
      ]
     },
     "execution_count": 11,
     "metadata": {},
     "output_type": "execute_result"
    }
   ],
   "source": [
    "X"
   ]
  },
  {
   "cell_type": "code",
   "execution_count": 12,
   "metadata": {},
   "outputs": [],
   "source": [
    "y=data[\"default payment next month\"]"
   ]
  },
  {
   "cell_type": "code",
   "execution_count": 13,
   "metadata": {},
   "outputs": [
    {
     "data": {
      "text/plain": [
       "0       0\n",
       "1       0\n",
       "2       0\n",
       "3       0\n",
       "4       0\n",
       "       ..\n",
       "996     0\n",
       "997     0\n",
       "998     0\n",
       "999     1\n",
       "1000    1\n",
       "Name: default payment next month, Length: 1001, dtype: int64"
      ]
     },
     "execution_count": 13,
     "metadata": {},
     "output_type": "execute_result"
    }
   ],
   "source": [
    "y"
   ]
  },
  {
   "cell_type": "code",
   "execution_count": 14,
   "metadata": {},
   "outputs": [],
   "source": [
    "from sklearn.model_selection import train_test_split"
   ]
  },
  {
   "cell_type": "code",
   "execution_count": 15,
   "metadata": {},
   "outputs": [],
   "source": [
    "#we did train and test split before only why because we dont want data leakage\n",
    "x_train, x_test, y_train, y_test=train_test_split(X,y,test_size=0.25,random_state=50)"
   ]
  },
  {
   "cell_type": "code",
   "execution_count": 16,
   "metadata": {},
   "outputs": [],
   "source": [
    "#preprocessing steps\n",
    "from sklearn.preprocessing import StandardScaler\n",
    "train_scaler=StandardScaler()\n",
    "test_scaler=StandardScaler()"
   ]
  },
  {
   "cell_type": "code",
   "execution_count": 17,
   "metadata": {},
   "outputs": [],
   "source": [
    "scaled_train_data=train_scaler.fit_transform(x_train)"
   ]
  },
  {
   "cell_type": "code",
   "execution_count": 18,
   "metadata": {},
   "outputs": [],
   "source": [
    "\n",
    "scaled_test_data=train_scaler.transform(x_test)"
   ]
  },
  {
   "cell_type": "code",
   "execution_count": 19,
   "metadata": {},
   "outputs": [
    {
     "data": {
      "text/plain": [
       "GaussianNB()"
      ]
     },
     "execution_count": 19,
     "metadata": {},
     "output_type": "execute_result"
    }
   ],
   "source": [
    "from sklearn.naive_bayes import GaussianNB\n",
    "clf = GaussianNB()\n",
    "clf.fit(scaled_train_data,y_train)"
   ]
  },
  {
   "cell_type": "code",
   "execution_count": 20,
   "metadata": {},
   "outputs": [],
   "source": [
    "y_pred=clf.predict(scaled_test_data)"
   ]
  },
  {
   "cell_type": "code",
   "execution_count": 21,
   "metadata": {},
   "outputs": [],
   "source": [
    "from sklearn.metrics import accuracy_score "
   ]
  },
  {
   "cell_type": "code",
   "execution_count": 22,
   "metadata": {},
   "outputs": [
    {
     "data": {
      "text/plain": [
       "69.7211155378486"
      ]
     },
     "execution_count": 22,
     "metadata": {},
     "output_type": "execute_result"
    }
   ],
   "source": [
    "accuracy_score(y_test,y_pred)*100"
   ]
  },
  {
   "cell_type": "code",
   "execution_count": 23,
   "metadata": {},
   "outputs": [],
   "source": [
    "param_grid = {\"var_smoothing\": [1e-9,0.1, 0.001, 0.5,0.05,0.01,1e-8,1e-7,1e-6,1e-10,1e-11]}"
   ]
  },
  {
   "cell_type": "code",
   "execution_count": 24,
   "metadata": {},
   "outputs": [],
   "source": [
    "from sklearn.model_selection import GridSearchCV\n",
    "gs=GridSearchCV(clf,param_grid=param_grid,cv=5,verbose=3)"
   ]
  },
  {
   "cell_type": "code",
   "execution_count": 25,
   "metadata": {},
   "outputs": [
    {
     "name": "stdout",
     "output_type": "stream",
     "text": [
      "Fitting 5 folds for each of 11 candidates, totalling 55 fits\n",
      "[CV] var_smoothing=1e-09 .............................................\n",
      "[CV] ................. var_smoothing=1e-09, score=0.713, total=   0.0s\n",
      "[CV] var_smoothing=1e-09 .............................................\n",
      "[CV] ................. var_smoothing=1e-09, score=0.707, total=   0.0s"
     ]
    },
    {
     "name": "stderr",
     "output_type": "stream",
     "text": [
      "[Parallel(n_jobs=1)]: Using backend SequentialBackend with 1 concurrent workers.\n",
      "[Parallel(n_jobs=1)]: Done   1 out of   1 | elapsed:    0.0s remaining:    0.0s\n",
      "[Parallel(n_jobs=1)]: Done   2 out of   2 | elapsed:    0.0s remaining:    0.0s\n"
     ]
    },
    {
     "name": "stdout",
     "output_type": "stream",
     "text": [
      "\n",
      "[CV] var_smoothing=1e-09 .............................................\n",
      "[CV] ................. var_smoothing=1e-09, score=0.580, total=   0.0s\n",
      "[CV] var_smoothing=1e-09 .............................................\n",
      "[CV] ................. var_smoothing=1e-09, score=0.780, total=   0.0s\n",
      "[CV] var_smoothing=1e-09 .............................................\n",
      "[CV] ................. var_smoothing=1e-09, score=0.487, total=   0.0s\n",
      "[CV] var_smoothing=0.1 ...............................................\n",
      "[CV] ................... var_smoothing=0.1, score=0.693, total=   0.0s\n",
      "[CV] var_smoothing=0.1 ...............................................\n",
      "[CV] ................... var_smoothing=0.1, score=0.773, total=   0.0s\n",
      "[CV] var_smoothing=0.1 ...............................................\n",
      "[CV] ................... var_smoothing=0.1, score=0.700, total=   0.0s\n",
      "[CV] var_smoothing=0.1 ...............................................\n",
      "[CV] ................... var_smoothing=0.1, score=0.780, total=   0.0s\n",
      "[CV] var_smoothing=0.1 ...............................................\n",
      "[CV] ................... var_smoothing=0.1, score=0.633, total=   0.0s\n",
      "[CV] var_smoothing=0.001 .............................................\n",
      "[CV] ................. var_smoothing=0.001, score=0.713, total=   0.0s\n",
      "[CV] var_smoothing=0.001 .............................................\n",
      "[CV] ................. var_smoothing=0.001, score=0.707, total=   0.0s\n",
      "[CV] var_smoothing=0.001 .............................................\n",
      "[CV] ................. var_smoothing=0.001, score=0.593, total=   0.0s\n",
      "[CV] var_smoothing=0.001 .............................................\n",
      "[CV] ................. var_smoothing=0.001, score=0.780, total=   0.0s\n",
      "[CV] var_smoothing=0.001 .............................................\n",
      "[CV] ................. var_smoothing=0.001, score=0.487, total=   0.0s\n",
      "[CV] var_smoothing=0.5 ...............................................\n",
      "[CV] ................... var_smoothing=0.5, score=0.740, total=   0.0s\n",
      "[CV] var_smoothing=0.5 ...............................................\n",
      "[CV] ................... var_smoothing=0.5, score=0.807, total=   0.0s\n",
      "[CV] var_smoothing=0.5 ...............................................\n",
      "[CV] ................... var_smoothing=0.5, score=0.767, total=   0.0s\n",
      "[CV] var_smoothing=0.5 ...............................................\n",
      "[CV] ................... var_smoothing=0.5, score=0.793, total=   0.0s\n",
      "[CV] var_smoothing=0.5 ...............................................\n",
      "[CV] ................... var_smoothing=0.5, score=0.773, total=   0.0s\n",
      "[CV] var_smoothing=0.05 ..............................................\n",
      "[CV] .................. var_smoothing=0.05, score=0.700, total=   0.0s\n",
      "[CV] var_smoothing=0.05 ..............................................\n",
      "[CV] .................. var_smoothing=0.05, score=0.747, total=   0.0s\n",
      "[CV] var_smoothing=0.05 ..............................................\n",
      "[CV] .................. var_smoothing=0.05, score=0.647, total=   0.0s\n",
      "[CV] var_smoothing=0.05 ..............................................\n",
      "[CV] .................. var_smoothing=0.05, score=0.787, total=   0.0s\n",
      "[CV] var_smoothing=0.05 ..............................................\n",
      "[CV] .................. var_smoothing=0.05, score=0.540, total=   0.0s\n",
      "[CV] var_smoothing=0.01 ..............................................\n",
      "[CV] .................. var_smoothing=0.01, score=0.720, total=   0.0s\n",
      "[CV] var_smoothing=0.01 ..............................................\n",
      "[CV] .................. var_smoothing=0.01, score=0.713, total=   0.0s\n",
      "[CV] var_smoothing=0.01 ..............................................\n",
      "[CV] .................. var_smoothing=0.01, score=0.607, total=   0.0s\n",
      "[CV] var_smoothing=0.01 ..............................................\n",
      "[CV] .................. var_smoothing=0.01, score=0.780, total=   0.0s\n",
      "[CV] var_smoothing=0.01 ..............................................\n",
      "[CV] .................. var_smoothing=0.01, score=0.500, total=   0.0s\n",
      "[CV] var_smoothing=1e-08 .............................................\n",
      "[CV] ................. var_smoothing=1e-08, score=0.713, total=   0.0s\n",
      "[CV] var_smoothing=1e-08 .............................................\n",
      "[CV] ................. var_smoothing=1e-08, score=0.707, total=   0.0s\n",
      "[CV] var_smoothing=1e-08 .............................................\n",
      "[CV] ................. var_smoothing=1e-08, score=0.580, total=   0.0s\n",
      "[CV] var_smoothing=1e-08 .............................................\n",
      "[CV] ................. var_smoothing=1e-08, score=0.780, total=   0.0s\n",
      "[CV] var_smoothing=1e-08 .............................................\n",
      "[CV] ................. var_smoothing=1e-08, score=0.487, total=   0.0s\n",
      "[CV] var_smoothing=1e-07 .............................................\n",
      "[CV] ................. var_smoothing=1e-07, score=0.713, total=   0.0s\n",
      "[CV] var_smoothing=1e-07 .............................................\n",
      "[CV] ................. var_smoothing=1e-07, score=0.707, total=   0.0s\n",
      "[CV] var_smoothing=1e-07 .............................................\n",
      "[CV] ................. var_smoothing=1e-07, score=0.580, total=   0.0s\n",
      "[CV] var_smoothing=1e-07 .............................................\n",
      "[CV] ................. var_smoothing=1e-07, score=0.780, total=   0.0s\n",
      "[CV] var_smoothing=1e-07 .............................................\n",
      "[CV] ................. var_smoothing=1e-07, score=0.487, total=   0.0s\n",
      "[CV] var_smoothing=1e-06 .............................................\n",
      "[CV] ................. var_smoothing=1e-06, score=0.713, total=   0.0s\n",
      "[CV] var_smoothing=1e-06 .............................................\n",
      "[CV] ................. var_smoothing=1e-06, score=0.707, total=   0.0s\n",
      "[CV] var_smoothing=1e-06 .............................................\n",
      "[CV] ................. var_smoothing=1e-06, score=0.580, total=   0.0s\n",
      "[CV] var_smoothing=1e-06 .............................................\n",
      "[CV] ................. var_smoothing=1e-06, score=0.780, total=   0.0s\n",
      "[CV] var_smoothing=1e-06 .............................................\n",
      "[CV] ................. var_smoothing=1e-06, score=0.487, total=   0.0s\n",
      "[CV] var_smoothing=1e-10 .............................................\n",
      "[CV] ................. var_smoothing=1e-10, score=0.713, total=   0.0s\n",
      "[CV] var_smoothing=1e-10 .............................................\n",
      "[CV] ................. var_smoothing=1e-10, score=0.707, total=   0.0s\n",
      "[CV] var_smoothing=1e-10 .............................................\n",
      "[CV] ................. var_smoothing=1e-10, score=0.580, total=   0.0s\n",
      "[CV] var_smoothing=1e-10 .............................................\n",
      "[CV] ................. var_smoothing=1e-10, score=0.780, total=   0.0s\n",
      "[CV] var_smoothing=1e-10 .............................................\n",
      "[CV] ................. var_smoothing=1e-10, score=0.487, total=   0.0s\n",
      "[CV] var_smoothing=1e-11 .............................................\n",
      "[CV] ................. var_smoothing=1e-11, score=0.713, total=   0.0s\n",
      "[CV] var_smoothing=1e-11 .............................................\n",
      "[CV] ................. var_smoothing=1e-11, score=0.707, total=   0.0s\n",
      "[CV] var_smoothing=1e-11 .............................................\n",
      "[CV] ................. var_smoothing=1e-11, score=0.580, total=   0.0s\n",
      "[CV] var_smoothing=1e-11 .............................................\n",
      "[CV] ................. var_smoothing=1e-11, score=0.780, total=   0.0s\n",
      "[CV] var_smoothing=1e-11 .............................................\n",
      "[CV] ................. var_smoothing=1e-11, score=0.487, total=   0.0s\n"
     ]
    },
    {
     "name": "stderr",
     "output_type": "stream",
     "text": [
      "[Parallel(n_jobs=1)]: Done  55 out of  55 | elapsed:    0.3s finished\n"
     ]
    },
    {
     "data": {
      "text/plain": [
       "GridSearchCV(cv=5, estimator=GaussianNB(),\n",
       "             param_grid={'var_smoothing': [1e-09, 0.1, 0.001, 0.5, 0.05, 0.01,\n",
       "                                           1e-08, 1e-07, 1e-06, 1e-10, 1e-11]},\n",
       "             verbose=3)"
      ]
     },
     "execution_count": 25,
     "metadata": {},
     "output_type": "execute_result"
    }
   ],
   "source": [
    "gs.fit(scaled_train_data,y_train)"
   ]
  },
  {
   "cell_type": "code",
   "execution_count": 26,
   "metadata": {},
   "outputs": [
    {
     "data": {
      "text/plain": [
       "{'mean_fit_time': array([0.00959806, 0.00479503, 0.00319986, 0.00320816, 0.00160027,\n",
       "        0.00320492, 0.00166388, 0.00159969, 0.00640335, 0.0031991 ,\n",
       "        0.00319896]),\n",
       " 'std_fit_time': array([0.00319996, 0.00391513, 0.00391902, 0.00392918, 0.00320053,\n",
       "        0.00392521, 0.00332775, 0.00319939, 0.00320169, 0.00391811,\n",
       "        0.00391791]),\n",
       " 'mean_score_time': array([0.00159478, 0.00160456, 0.        , 0.00159636, 0.0016572 ,\n",
       "        0.00319576, 0.00160151, 0.00320101, 0.        , 0.        ,\n",
       "        0.00160027]),\n",
       " 'std_score_time': array([0.00318956, 0.00320911, 0.        , 0.00319271, 0.0033144 ,\n",
       "        0.003914  , 0.00320301, 0.00392042, 0.        , 0.        ,\n",
       "        0.00320053]),\n",
       " 'param_var_smoothing': masked_array(data=[1e-09, 0.1, 0.001, 0.5, 0.05, 0.01, 1e-08, 1e-07,\n",
       "                    1e-06, 1e-10, 1e-11],\n",
       "              mask=[False, False, False, False, False, False, False, False,\n",
       "                    False, False, False],\n",
       "        fill_value='?',\n",
       "             dtype=object),\n",
       " 'params': [{'var_smoothing': 1e-09},\n",
       "  {'var_smoothing': 0.1},\n",
       "  {'var_smoothing': 0.001},\n",
       "  {'var_smoothing': 0.5},\n",
       "  {'var_smoothing': 0.05},\n",
       "  {'var_smoothing': 0.01},\n",
       "  {'var_smoothing': 1e-08},\n",
       "  {'var_smoothing': 1e-07},\n",
       "  {'var_smoothing': 1e-06},\n",
       "  {'var_smoothing': 1e-10},\n",
       "  {'var_smoothing': 1e-11}],\n",
       " 'split0_test_score': array([0.71333333, 0.69333333, 0.71333333, 0.74      , 0.7       ,\n",
       "        0.72      , 0.71333333, 0.71333333, 0.71333333, 0.71333333,\n",
       "        0.71333333]),\n",
       " 'split1_test_score': array([0.70666667, 0.77333333, 0.70666667, 0.80666667, 0.74666667,\n",
       "        0.71333333, 0.70666667, 0.70666667, 0.70666667, 0.70666667,\n",
       "        0.70666667]),\n",
       " 'split2_test_score': array([0.58      , 0.7       , 0.59333333, 0.76666667, 0.64666667,\n",
       "        0.60666667, 0.58      , 0.58      , 0.58      , 0.58      ,\n",
       "        0.58      ]),\n",
       " 'split3_test_score': array([0.78      , 0.78      , 0.78      , 0.79333333, 0.78666667,\n",
       "        0.78      , 0.78      , 0.78      , 0.78      , 0.78      ,\n",
       "        0.78      ]),\n",
       " 'split4_test_score': array([0.48666667, 0.63333333, 0.48666667, 0.77333333, 0.54      ,\n",
       "        0.5       , 0.48666667, 0.48666667, 0.48666667, 0.48666667,\n",
       "        0.48666667]),\n",
       " 'mean_test_score': array([0.65333333, 0.716     , 0.656     , 0.776     , 0.684     ,\n",
       "        0.664     , 0.65333333, 0.65333333, 0.65333333, 0.65333333,\n",
       "        0.65333333]),\n",
       " 'std_test_score': array([0.10549355, 0.05474791, 0.10376041, 0.02293953, 0.08585259,\n",
       "        0.09920573, 0.10549355, 0.10549355, 0.10549355, 0.10549355,\n",
       "        0.10549355]),\n",
       " 'rank_test_score': array([6, 2, 5, 1, 3, 4, 6, 6, 6, 6, 6])}"
      ]
     },
     "execution_count": 26,
     "metadata": {},
     "output_type": "execute_result"
    }
   ],
   "source": [
    "gs.cv_results_"
   ]
  },
  {
   "cell_type": "code",
   "execution_count": 27,
   "metadata": {},
   "outputs": [
    {
     "data": {
      "text/plain": [
       "GaussianNB(var_smoothing=0.5)"
      ]
     },
     "execution_count": 27,
     "metadata": {},
     "output_type": "execute_result"
    }
   ],
   "source": [
    "gs.best_estimator_"
   ]
  },
  {
   "cell_type": "code",
   "execution_count": 28,
   "metadata": {},
   "outputs": [
    {
     "data": {
      "text/plain": [
       "80.0796812749004"
      ]
     },
     "execution_count": 28,
     "metadata": {},
     "output_type": "execute_result"
    }
   ],
   "source": [
    "clf2 = GaussianNB(var_smoothing=0.5)\n",
    "clf2.fit(scaled_train_data,y_train)\n",
    "y_pred2=clf2.predict(scaled_test_data)\n",
    "accuracy_score(y_test,y_pred2)*100"
   ]
  },
  {
   "cell_type": "markdown",
   "metadata": {},
   "source": [
    "## xgboost\n"
   ]
  },
  {
   "cell_type": "code",
   "execution_count": 30,
   "metadata": {},
   "outputs": [
    {
     "name": "stdout",
     "output_type": "stream",
     "text": [
      "Collecting xgboost\n",
      "  Downloading xgboost-1.7.5-py3-none-win_amd64.whl (70.9 MB)\n",
      "Requirement already satisfied: scipy in c:\\users\\sunita\\anaconda3\\lib\\site-packages (from xgboost) (1.5.2)\n",
      "Requirement already satisfied: numpy in c:\\users\\sunita\\anaconda3\\lib\\site-packages (from xgboost) (1.19.2)\n",
      "Installing collected packages: xgboost\n",
      "Successfully installed xgboost-1.7.5\n"
     ]
    }
   ],
   "source": [
    "! pip install xgboost\n",
    "from xgboost import XGBClassifier\n"
   ]
  },
  {
   "cell_type": "code",
   "execution_count": 31,
   "metadata": {},
   "outputs": [],
   "source": [
    "xgb=XGBClassifier()"
   ]
  },
  {
   "cell_type": "code",
   "execution_count": 32,
   "metadata": {},
   "outputs": [
    {
     "data": {
      "text/plain": [
       "XGBClassifier(base_score=None, booster=None, callbacks=None,\n",
       "              colsample_bylevel=None, colsample_bynode=None,\n",
       "              colsample_bytree=None, early_stopping_rounds=None,\n",
       "              enable_categorical=False, eval_metric=None, feature_types=None,\n",
       "              gamma=None, gpu_id=None, grow_policy=None, importance_type=None,\n",
       "              interaction_constraints=None, learning_rate=None, max_bin=None,\n",
       "              max_cat_threshold=None, max_cat_to_onehot=None,\n",
       "              max_delta_step=None, max_depth=None, max_leaves=None,\n",
       "              min_child_weight=None, missing=nan, monotone_constraints=None,\n",
       "              n_estimators=100, n_jobs=None, num_parallel_tree=None,\n",
       "              predictor=None, random_state=None, ...)"
      ]
     },
     "execution_count": 32,
     "metadata": {},
     "output_type": "execute_result"
    }
   ],
   "source": [
    "xgb.fit(scaled_train_data,y_train)"
   ]
  },
  {
   "cell_type": "code",
   "execution_count": 33,
   "metadata": {},
   "outputs": [],
   "source": [
    "y_pred3=xgb.predict(scaled_test_data)"
   ]
  },
  {
   "cell_type": "code",
   "execution_count": 34,
   "metadata": {
    "scrolled": true
   },
   "outputs": [
    {
     "data": {
      "text/plain": [
       "0.7689243027888446"
      ]
     },
     "execution_count": 34,
     "metadata": {},
     "output_type": "execute_result"
    }
   ],
   "source": [
    "accuracy_score(y_test,y_pred3)"
   ]
  },
  {
   "cell_type": "code",
   "execution_count": 35,
   "metadata": {},
   "outputs": [],
   "source": [
    "param_grid_xgboost = { \"n_estimators\": [50,100, 130],\n",
    "                        \"max_depth\": range(3,11,1),\n",
    "                      \"random_state\":[0,50,100]\n",
    "                     }\n",
    "\n",
    "# Creating an object of the Grid Search class\n",
    "grid= GridSearchCV(XGBClassifier(objective='binary:logistic'),param_grid_xgboost,verbose=3,cv=5,n_jobs=-1)"
   ]
  },
  {
   "cell_type": "code",
   "execution_count": 36,
   "metadata": {},
   "outputs": [
    {
     "name": "stdout",
     "output_type": "stream",
     "text": [
      "Fitting 5 folds for each of 72 candidates, totalling 360 fits\n"
     ]
    },
    {
     "name": "stderr",
     "output_type": "stream",
     "text": [
      "[Parallel(n_jobs=-1)]: Using backend LokyBackend with 2 concurrent workers.\n",
      "[Parallel(n_jobs=-1)]: Done  28 tasks      | elapsed:   20.7s\n",
      "[Parallel(n_jobs=-1)]: Done 124 tasks      | elapsed:   34.8s\n",
      "[Parallel(n_jobs=-1)]: Done 284 tasks      | elapsed:  1.1min\n",
      "[Parallel(n_jobs=-1)]: Done 360 out of 360 | elapsed:  1.3min finished\n"
     ]
    },
    {
     "data": {
      "text/plain": [
       "GridSearchCV(cv=5,\n",
       "             estimator=XGBClassifier(base_score=None, booster=None,\n",
       "                                     callbacks=None, colsample_bylevel=None,\n",
       "                                     colsample_bynode=None,\n",
       "                                     colsample_bytree=None,\n",
       "                                     early_stopping_rounds=None,\n",
       "                                     enable_categorical=False, eval_metric=None,\n",
       "                                     feature_types=None, gamma=None,\n",
       "                                     gpu_id=None, grow_policy=None,\n",
       "                                     importance_type=None,\n",
       "                                     interaction_constraints=None,\n",
       "                                     learning_rate=None,...\n",
       "                                     max_cat_threshold=None,\n",
       "                                     max_cat_to_onehot=None,\n",
       "                                     max_delta_step=None, max_depth=None,\n",
       "                                     max_leaves=None, min_child_weight=None,\n",
       "                                     missing=nan, monotone_constraints=None,\n",
       "                                     n_estimators=100, n_jobs=None,\n",
       "                                     num_parallel_tree=None, predictor=None,\n",
       "                                     random_state=None, ...),\n",
       "             n_jobs=-1,\n",
       "             param_grid={'max_depth': range(3, 11),\n",
       "                         'n_estimators': [50, 100, 130],\n",
       "                         'random_state': [0, 50, 100]},\n",
       "             verbose=3)"
      ]
     },
     "execution_count": 36,
     "metadata": {},
     "output_type": "execute_result"
    }
   ],
   "source": [
    "grid.fit(scaled_train_data,y_train)"
   ]
  },
  {
   "cell_type": "code",
   "execution_count": 37,
   "metadata": {},
   "outputs": [
    {
     "data": {
      "text/plain": [
       "XGBClassifier(base_score=None, booster=None, callbacks=None,\n",
       "              colsample_bylevel=None, colsample_bynode=None,\n",
       "              colsample_bytree=None, early_stopping_rounds=None,\n",
       "              enable_categorical=False, eval_metric=None, feature_types=None,\n",
       "              gamma=None, gpu_id=None, grow_policy=None, importance_type=None,\n",
       "              interaction_constraints=None, learning_rate=None, max_bin=None,\n",
       "              max_cat_threshold=None, max_cat_to_onehot=None,\n",
       "              max_delta_step=None, max_depth=4, max_leaves=None,\n",
       "              min_child_weight=None, missing=nan, monotone_constraints=None,\n",
       "              n_estimators=100, n_jobs=None, num_parallel_tree=None,\n",
       "              predictor=None, random_state=0, ...)"
      ]
     },
     "execution_count": 37,
     "metadata": {},
     "output_type": "execute_result"
    }
   ],
   "source": [
    "grid.best_estimator_"
   ]
  },
  {
   "cell_type": "code",
   "execution_count": 38,
   "metadata": {},
   "outputs": [
    {
     "data": {
      "text/plain": [
       "{'max_depth': 4, 'n_estimators': 100, 'random_state': 0}"
      ]
     },
     "execution_count": 38,
     "metadata": {},
     "output_type": "execute_result"
    }
   ],
   "source": [
    "grid.best_params_\n"
   ]
  },
  {
   "cell_type": "code",
   "execution_count": 39,
   "metadata": {},
   "outputs": [],
   "source": [
    "xgb_new=XGBClassifier(max_depth=4, n_estimators=90, random_state=0)"
   ]
  },
  {
   "cell_type": "code",
   "execution_count": 40,
   "metadata": {},
   "outputs": [],
   "source": [
    "y_pred4=xgb_new.fit(scaled_train_data,y_train).predict(scaled_test_data)"
   ]
  },
  {
   "cell_type": "code",
   "execution_count": 41,
   "metadata": {},
   "outputs": [
    {
     "data": {
      "text/plain": [
       "0.7848605577689243"
      ]
     },
     "execution_count": 41,
     "metadata": {},
     "output_type": "execute_result"
    }
   ],
   "source": [
    "accuracy_score(y_test,y_pred4)"
   ]
  },
  {
   "cell_type": "code",
   "execution_count": null,
   "metadata": {},
   "outputs": [],
   "source": []
  },
  {
   "cell_type": "code",
   "execution_count": null,
   "metadata": {},
   "outputs": [],
   "source": []
  }
 ],
 "metadata": {
  "kernelspec": {
   "display_name": "Python 3",
   "language": "python",
   "name": "python3"
  },
  "language_info": {
   "codemirror_mode": {
    "name": "ipython",
    "version": 3
   },
   "file_extension": ".py",
   "mimetype": "text/x-python",
   "name": "python",
   "nbconvert_exporter": "python",
   "pygments_lexer": "ipython3",
   "version": "3.8.5"
  }
 },
 "nbformat": 4,
 "nbformat_minor": 5
}
